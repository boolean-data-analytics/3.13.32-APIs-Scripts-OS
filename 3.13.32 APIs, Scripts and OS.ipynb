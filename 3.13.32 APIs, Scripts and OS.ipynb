{
 "cells": [
  {
   "cell_type": "markdown",
   "id": "7589f3bc-9aaf-4adc-ac62-72d89eedac64",
   "metadata": {},
   "source": [
    "# 3.13.31 APIs, Scripts & the Operating System"
   ]
  },
  {
   "cell_type": "markdown",
   "id": "689b1d6c-78a2-4e72-8456-7c39684a6ac7",
   "metadata": {},
   "source": [
    "### Another API call"
   ]
  },
  {
   "cell_type": "markdown",
   "id": "1723a227-957f-49bb-88e4-dbfb38f9b1ab",
   "metadata": {},
   "source": [
    "Let's look at one more API call using the [CoinGecko API](https://www.coingecko.com/en/api/documentation). Specifically, we'll use the `/coins/{id}/history` endpoint to get the historical exchange rates for bitcoin at a given date. To do this, we replace `{id}` with bitcoin and add the `date` parameter as follows: \n",
    "\n",
    "    https://api.coingecko.com/api/v3/coins/bitcoin/history?date=01-06-2022"
   ]
  },
  {
   "cell_type": "code",
   "execution_count": null,
   "id": "dcb67d18-add7-4dfd-9830-cfc34de92e6b",
   "metadata": {},
   "outputs": [],
   "source": [
    "import pandas as pd\n",
    "import requests"
   ]
  },
  {
   "cell_type": "code",
   "execution_count": null,
   "id": "920418c2-8f88-4b70-834d-6fae76fa2591",
   "metadata": {},
   "outputs": [],
   "source": [
    "url = 'https://api.coingecko.com/api/v3/coins/bitcoin/history?date=01-06-2022'\n",
    "r = requests.get(url)\n",
    "print(r.status_code)   # check the status code\n",
    "df = pd.DataFrame.from_dict(r.json()['market_data'])\n",
    "print(df.shape)\n",
    "df.head()"
   ]
  },
  {
   "cell_type": "markdown",
   "id": "47259dbc-8af2-48e2-be6e-76738aa6aeba",
   "metadata": {},
   "source": [
    "The result is a 61x3 DataFrame, which includes the `current_price`, the `market_cap` and the `total_volume` of transactions between bitcoin and each of the 61 available tickers on the 1st of June, 2022. "
   ]
  },
  {
   "cell_type": "markdown",
   "id": "2229a93d-884e-40f8-94de-e4e187928735",
   "metadata": {},
   "source": [
    "If we wanted to **save to a .csv file** this DataFrame, we can use the `.to_csv()` method, specifying the filename: "
   ]
  },
  {
   "cell_type": "code",
   "execution_count": null,
   "id": "847039c0-b2b6-41db-b304-462d1de9b261",
   "metadata": {},
   "outputs": [],
   "source": [
    "df.to_csv('df_test.csv')"
   ]
  },
  {
   "cell_type": "markdown",
   "id": "0bc19bde-376a-4bcc-8dd0-39e3c3ae111e",
   "metadata": {},
   "source": [
    "### Scripts"
   ]
  },
  {
   "cell_type": "markdown",
   "id": "cf377e16-e649-4c8d-866d-ad2ba73e3570",
   "metadata": {},
   "source": [
    "If we wanted to **build a historical account** of these metrics, say the last 28 days, we would have to make several API calls, each with a different `date` parameter and then append them together in a final DataFrame. \n",
    "\n",
    "Such a task could be performed here on a Jupyter Notebook, but this is actually a great time to introduce another way of writing Python code, that is, **using a script**. "
   ]
  },
  {
   "cell_type": "markdown",
   "id": "229dc663-a1c7-457d-aa7a-a57e909d8ca2",
   "metadata": {},
   "source": [
    "<img src=\"img/script-notebook.png\" width=\"600\">"
   ]
  },
  {
   "cell_type": "markdown",
   "id": "ed108599-fb12-40e4-a0f6-60cf2a7128b3",
   "metadata": {},
   "source": [
    "Scripts are not unique to Python, actually most languages use a script to execute their code. The main difference between the two is that a **Jupyter Notebook allows you to add titles, text with commentary, pictures and it renders charts and outputs** in-line with your code, while **scripts are simple text files** (with a `.py` extension) that contain just code (and comments to the code) and **can execute the whole set of instructions at once**. \n",
    "\n",
    "We will use **Spyder**, a Python scripting IDE that comes **pre-installed with the Anaconda distribution**. Although it doesn't have as many bells and whistles as some of its competition (like *PyCharm* or *Visual Studio Code*), its simplicity is well suited for a first approach and its features include everything we need for our analytical purpouses. \n",
    "\n",
    "You can start up Spyder by typing `spyder` in: \n",
    "- a Conda terminal (if you're using a Windows OS)\n",
    "- any terminal (if you're using a Mac or Linux OS)"
   ]
  },
  {
   "cell_type": "markdown",
   "id": "b2e96986-1ebb-4c62-a77f-f135c9a55b5a",
   "metadata": {},
   "source": [
    "Let's move to the `script1_btc_28_days.py` script to see how we can implement a script that performs the actions described above. The algorithm, broadly speaking, will look like this: \n",
    "\n",
    "- create a list of dates that ranges from 28 days ago to today\n",
    "- initialise an empty DataFrame named `df`\n",
    "- loop through the list of dates and, at each cycle: \n",
    "    - make an HTTP request to the CoinGecko API \n",
    "    - retrieve the information we need in JSON format\n",
    "    - save the data to a temporary DataFrame named \"tmp_df\"\n",
    "    - add the current cycle's date to a new column name \"date\" in the DataFrame\n",
    "    - append the temporary DataFrame to the \"df\" DataFrame\n",
    "- analyse or plot the final DataFrame"
   ]
  },
  {
   "cell_type": "markdown",
   "id": "02e30aa0-891a-4d8d-8ab0-73ada6c8198b",
   "metadata": {},
   "source": [
    "### Interacting with the OS"
   ]
  },
  {
   "cell_type": "markdown",
   "id": "f6a009a6-9cad-43d6-af78-801d0552e97f",
   "metadata": {},
   "source": [
    "Python's Standard Library includes a very useful utility package, called `os`, that **allows you to interact with the Operating System** and move between folders, create and delete files and perform all those actions that you would usually do via the computer's graphical user interface. "
   ]
  },
  {
   "cell_type": "code",
   "execution_count": null,
   "id": "3cd9af0c-bd2d-4730-b23b-268e0b03cff5",
   "metadata": {},
   "outputs": [],
   "source": [
    "import os"
   ]
  },
  {
   "cell_type": "markdown",
   "id": "379c1704-73b3-4355-99dd-687fe2f91938",
   "metadata": {},
   "source": [
    "A good starting point would be to know your **current working directory**, that is, the location in your file system where you are executing this file from (by default, that is where the file has been saved). You can retrieve this information using he `os.getcwd()` function: "
   ]
  },
  {
   "cell_type": "code",
   "execution_count": null,
   "id": "96bc05f4-5f04-486b-bca0-47de3657ac70",
   "metadata": {},
   "outputs": [],
   "source": [
    "# show the current working directory (cwd)\n",
    "os.getcwd()"
   ]
  },
  {
   "cell_type": "markdown",
   "id": "8bd9a276-947d-4137-a3cf-e382b3d4c11a",
   "metadata": {},
   "source": [
    "If you want to **move to another folder**, you can use the `os.chdir()` function, where you can specify the new directory's path:"
   ]
  },
  {
   "cell_type": "code",
   "execution_count": null,
   "id": "621103ee-f7b8-4144-b6b2-573bfff02c86",
   "metadata": {},
   "outputs": [],
   "source": [
    "# change the current directory\n",
    "os.chdir('/Users/franz/Documents/Boolean/Data Analytics/git')"
   ]
  },
  {
   "cell_type": "markdown",
   "id": "f0eecc66-36c8-488b-85b5-9df7461ccb69",
   "metadata": {},
   "source": [
    "Another useful function is `os.listdir()`, which simply **lists all the files and folders** that are present in your current working directory: "
   ]
  },
  {
   "cell_type": "code",
   "execution_count": null,
   "id": "132cf0ac-e4d3-4f6c-9eb9-fd0ce22cc1fa",
   "metadata": {},
   "outputs": [],
   "source": [
    "# list all the files and directories in the cwd\n",
    "os.listdir()"
   ]
  },
  {
   "cell_type": "markdown",
   "id": "8a154c50-02d9-4162-8693-189ed74c02ea",
   "metadata": {},
   "source": [
    "The functions `os.mkdir()` and `os.rmdir` allow you to, respectively, **create and remove a folder** from the current working directory:"
   ]
  },
  {
   "cell_type": "code",
   "execution_count": null,
   "id": "30b8b1a3-0883-4757-8dd3-e5dcc38c5383",
   "metadata": {},
   "outputs": [],
   "source": [
    "# move to this class' folder\n",
    "cwd = '/Users/franz/Documents/Boolean/Data Analytics/git/3.13.32 APIs, Scripts and OS'\n",
    "os.chdir(cwd)\n",
    "\n",
    "# create a new directory called 'test'\n",
    "os.mkdir('test')\n",
    "\n",
    "# check that the directory is effectively there\n",
    "os.listdir()"
   ]
  },
  {
   "cell_type": "markdown",
   "id": "aeb52195-e7e1-42e8-90b5-0e741953c007",
   "metadata": {},
   "source": [
    "In order to **move a file or a folder** (the method is the same), you simply **rename** the file or folder, changing its full path. Let's see an example: let's create another folder \"test2\" and move it inside the folder \"test\" we just created:"
   ]
  },
  {
   "cell_type": "code",
   "execution_count": null,
   "id": "f209837e-582f-4d6e-b61d-2da12a88cf76",
   "metadata": {},
   "outputs": [],
   "source": [
    "# create a new directory called 'test2'\n",
    "os.mkdir('test2')\n",
    "\n",
    "# move the directory\n",
    "os.rename(cwd+'/test2', cwd+'/test/test2')"
   ]
  },
  {
   "cell_type": "markdown",
   "id": "53389096-c73e-4087-aa53-10b9491b5c4c",
   "metadata": {},
   "source": [
    "Let's remove \"test2\" and then \"test\" *(note: if a folder is not empty you won't be able to remove it with this command, check out [this web page](https://www.codegrepper.com/code-examples/python/delete+non+empty+directory+python) for more information on how to do that)*:"
   ]
  },
  {
   "cell_type": "code",
   "execution_count": null,
   "id": "78c08866-a45e-4594-8812-5031d55f84f2",
   "metadata": {},
   "outputs": [],
   "source": [
    "# remove the directory\n",
    "os.rmdir('test/test2')\n",
    "os.rmdir('test')\n",
    "\n",
    "# check that the directory is no longer there\n",
    "os.listdir()"
   ]
  },
  {
   "cell_type": "markdown",
   "id": "16a720a7-1c61-4be4-b8fd-133955a6d93d",
   "metadata": {},
   "source": [
    "Finally, to remove a file, you can use the `os.remove()` function: "
   ]
  },
  {
   "cell_type": "code",
   "execution_count": null,
   "id": "2e1fc636-f526-41f1-b52a-c23dd77aea77",
   "metadata": {},
   "outputs": [],
   "source": [
    "os.remove('df_test.csv')"
   ]
  },
  {
   "cell_type": "markdown",
   "id": "7a769d73-1fb7-4013-8518-350d692cbe2e",
   "metadata": {},
   "source": [
    "### A final example"
   ]
  },
  {
   "cell_type": "markdown",
   "id": "72db9f59-9e63-42e7-bd24-4a3b4e4a6a2e",
   "metadata": {},
   "source": [
    "Let's use what we just learned in a practical context; we want to write two more scripts: \n",
    "\n",
    "- in the first script we retrieve bitcoin's prices (just like we did for the previous script) but this time we're going to save each temporary DataFrame we're creating at each cycle of the loop to a local .csv file in the `/data/btc` directory;\n",
    "- in the second script, we access the `/data/btc` directory, list all of its contents (that is, the files we just saved) and, looping through each one of them, we load them to a temporary DataFrame and then append each file to an (initially) empty DataFrame; we finally print a linechart of the data and save a .png copy to the local folder. "
   ]
  }
 ],
 "metadata": {
  "kernelspec": {
   "display_name": "Python 3 (ipykernel)",
   "language": "python",
   "name": "python3"
  },
  "language_info": {
   "codemirror_mode": {
    "name": "ipython",
    "version": 3
   },
   "file_extension": ".py",
   "mimetype": "text/x-python",
   "name": "python",
   "nbconvert_exporter": "python",
   "pygments_lexer": "ipython3",
   "version": "3.9.7"
  }
 },
 "nbformat": 4,
 "nbformat_minor": 5
}
